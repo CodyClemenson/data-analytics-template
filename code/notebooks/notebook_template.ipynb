{
 "cells": [
  {
   "cell_type": "markdown",
   "id": "c5472112-bf48-43f6-af65-8558d253d7b4",
   "metadata": {},
   "source": [
    "# Project Name"
   ]
  },
  {
   "cell_type": "markdown",
   "id": "031ce9e7-ecd1-4880-a46e-4b14492027e9",
   "metadata": {},
   "source": [
    "**Author** Cody Clemenson\n",
    "**Last modified**: 11-16-2024 (created: 11-16-2024)\n",
    "\n",
    "**Description** Short paragraph explaning this project"
   ]
  },
  {
   "cell_type": "markdown",
   "id": "4e8a5df5-833f-4c4d-8a39-85c20df0295d",
   "metadata": {},
   "source": [
    "<br>"
   ]
  },
  {
   "cell_type": "markdown",
   "id": "73283879-c4cf-41b2-906a-04da73fc8aac",
   "metadata": {},
   "source": [
    "Import libraries:"
   ]
  },
  {
   "cell_type": "code",
   "execution_count": 5,
   "id": "f37389a0-7467-4d10-b77a-56b73c50a18e",
   "metadata": {},
   "outputs": [],
   "source": [
    "import pandas as pd"
   ]
  },
  {
   "cell_type": "markdown",
   "id": "a30fd88c-96bc-43cd-b096-225c5f382c84",
   "metadata": {},
   "source": [
    "Load data:"
   ]
  },
  {
   "cell_type": "code",
   "execution_count": 7,
   "id": "37c7739e-cc48-4493-b3a5-87e6e03856de",
   "metadata": {},
   "outputs": [],
   "source": [
    "## code to read csv file"
   ]
  },
  {
   "cell_type": "code",
   "execution_count": null,
   "id": "6c5c7684-868c-4bd4-be5d-49938d827269",
   "metadata": {},
   "outputs": [],
   "source": []
  }
 ],
 "metadata": {
  "kernelspec": {
   "display_name": "Python 3 (ipykernel)",
   "language": "python",
   "name": "python3"
  },
  "language_info": {
   "codemirror_mode": {
    "name": "ipython",
    "version": 3
   },
   "file_extension": ".py",
   "mimetype": "text/x-python",
   "name": "python",
   "nbconvert_exporter": "python",
   "pygments_lexer": "ipython3",
   "version": "3.12.4"
  }
 },
 "nbformat": 4,
 "nbformat_minor": 5
}
